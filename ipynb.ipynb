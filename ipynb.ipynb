{
 "cells": [
  {
   "cell_type": "markdown",
   "metadata": {},
   "source": [
    "# YIELD TO MATURITY"
   ]
  },
  {
   "cell_type": "markdown",
   "metadata": {},
   "source": [
    "# Simple Loan"
   ]
  },
  {
   "cell_type": "code",
   "execution_count": 22,
   "metadata": {},
   "outputs": [],
   "source": [
    "class Simple_Loan:\n",
    "    def get_pv(self, flow, int_rate, maturity):\n",
    "        pv = flow / (1 + int_rate)**maturity\n",
    "        \n",
    "        return pv\n",
    "    \n",
    "    def get_ytm(self, flow, pv, maturity):\n",
    "        ytm = (flow / pv)**(1/maturity) - 1\n",
    "        \n",
    "        return ytm"
   ]
  },
  {
   "cell_type": "code",
   "execution_count": 2,
   "metadata": {},
   "outputs": [],
   "source": [
    "simple_loan_calculator = Simple_Loan()"
   ]
  },
  {
   "cell_type": "code",
   "execution_count": 3,
   "metadata": {},
   "outputs": [
    {
     "data": {
      "text/plain": [
       "0.019800194360956258"
      ]
     },
     "execution_count": 3,
     "metadata": {},
     "output_type": "execute_result"
    }
   ],
   "source": [
    "simple_loan_calculator.get_ytm(110, 105.77, 2)"
   ]
  },
  {
   "cell_type": "code",
   "execution_count": 4,
   "metadata": {},
   "outputs": [
    {
     "data": {
      "text/plain": [
       "105.7285659361784"
      ]
     },
     "execution_count": 4,
     "metadata": {},
     "output_type": "execute_result"
    }
   ],
   "source": [
    "simple_loan_calculator.get_pv(110, 0.02, 2)"
   ]
  },
  {
   "cell_type": "markdown",
   "metadata": {},
   "source": [
    "# Discount Bond"
   ]
  },
  {
   "cell_type": "code",
   "execution_count": 5,
   "metadata": {},
   "outputs": [],
   "source": [
    "class Discount_Bond:\n",
    "    def get_pv(self, face_value, int_rate, years):\n",
    "        pv = face_value /  (1 + int_rate)**years\n",
    "        return pv\n",
    "    \n",
    "    @staticmethod\n",
    "    def get_ytm(bond_price, face_price, years):\n",
    "        ytm = (face_price / bond_price)**(1/years) - 1\n",
    "        \n",
    "        return ytm"
   ]
  },
  {
   "cell_type": "code",
   "execution_count": 6,
   "metadata": {},
   "outputs": [],
   "source": [
    "discount_calculator = Discount_Bond()"
   ]
  },
  {
   "cell_type": "code",
   "execution_count": 7,
   "metadata": {},
   "outputs": [
    {
     "data": {
      "text/plain": [
       "13.168724279835391"
      ]
     },
     "execution_count": 7,
     "metadata": {},
     "output_type": "execute_result"
    }
   ],
   "source": [
    "discount_calculator.get_pv(100, 0.5, 5)"
   ]
  },
  {
   "cell_type": "code",
   "execution_count": 8,
   "metadata": {},
   "outputs": [
    {
     "data": {
      "text/plain": [
       "0.5038735793407285"
      ]
     },
     "execution_count": 8,
     "metadata": {},
     "output_type": "execute_result"
    }
   ],
   "source": [
    "discount_calculator.get_ytm(13, 100, 5)"
   ]
  },
  {
   "cell_type": "markdown",
   "metadata": {},
   "source": [
    "# Fixed Loan"
   ]
  },
  {
   "cell_type": "code",
   "execution_count": 9,
   "metadata": {},
   "outputs": [],
   "source": [
    "class Fixed_Loan:\n",
    "    @staticmethod\n",
    "    def get_pv(fixed_price, int_rate, years):\n",
    "        pv = sum([fixed_price / (1 + int_rate)**y for y in range(years)])\n",
    "        \n",
    "        return pv\n",
    "    \n",
    "    def get_ytm(self, bond_price, fixed_price, years, estimate=0.55):\n",
    "        import scipy\n",
    "        from scipy import optimize\n",
    "        \n",
    "        get_yield = lambda int_rate: self.get_pv(fixed_price, int_rate, years) - bond_price\n",
    "        \n",
    "        return optimize.newton(get_yield, estimate)"
   ]
  },
  {
   "cell_type": "code",
   "execution_count": 10,
   "metadata": {},
   "outputs": [],
   "source": [
    "fixed_loan_calculator = Fixed_Loan()"
   ]
  },
  {
   "cell_type": "code",
   "execution_count": 11,
   "metadata": {},
   "outputs": [
    {
     "data": {
      "text/plain": [
       "109.91735537190083"
      ]
     },
     "execution_count": 11,
     "metadata": {},
     "output_type": "execute_result"
    }
   ],
   "source": [
    "fixed_loan_calculator.get_pv(100, 10, 3)"
   ]
  },
  {
   "cell_type": "code",
   "execution_count": 12,
   "metadata": {},
   "outputs": [
    {
     "data": {
      "text/plain": [
       "0.618033988749895"
      ]
     },
     "execution_count": 12,
     "metadata": {},
     "output_type": "execute_result"
    }
   ],
   "source": [
    "fixed_loan_calculator.get_ytm(100, 50, 3)"
   ]
  },
  {
   "cell_type": "markdown",
   "metadata": {},
   "source": [
    "# Coupon Bond"
   ]
  },
  {
   "cell_type": "code",
   "execution_count": 23,
   "metadata": {},
   "outputs": [],
   "source": [
    "class Coupon_Bond:\n",
    "    def get_price(self, coupon, face_value, int_rate, years, freq=1):\n",
    "        total_coupons_pv = self.get_coupons_pv(coupon, int_rate, years, freq)\n",
    "        face_value_pv    = self.get_face_value_pv(face_value, int_rate, years)\n",
    "        result           = total_coupons_pv + face_value_pv\n",
    "        return result\n",
    "    \n",
    "    @staticmethod\n",
    "    def get_face_value_pv(face_value, int_rate, years):\n",
    "        fvpv = face_value / (1 + int_rate)**years\n",
    "        return fvpv\n",
    "    \n",
    "    def get_coupons_pv(self, coupon, int_rate, years, freq=1):\n",
    "        pv = 0\n",
    "        for period in range(years*freq):\n",
    "            pv += self.get_coupon_pv(coupon, int_rate, period+1, freq)\n",
    "        return pv\n",
    "    \n",
    "    @staticmethod\n",
    "    def get_coupon_pv(coupon, int_rate, period, freq):\n",
    "        pv = coupon /(1 + int_rate/freq)**period\n",
    "        return pv\n",
    "    \n",
    "    def get_ytm(self, bond_price, face_value, coupon, years, freq=1, estimate=0.05):\n",
    "        import scipy\n",
    "        from scipy import optimize\n",
    "        get_yield = lambda int_rate: self.get_price(coupon, face_value, int_rate, years, freq) - bond_price\n",
    "        return optimize.newton(get_yield, estimate)"
   ]
  },
  {
   "cell_type": "code",
   "execution_count": 24,
   "metadata": {},
   "outputs": [],
   "source": [
    "coupon_bond_calculator = Coupon_Bond()"
   ]
  },
  {
   "cell_type": "code",
   "execution_count": 25,
   "metadata": {},
   "outputs": [
    {
     "data": {
      "text/plain": [
       "0.0854662799059332"
      ]
     },
     "execution_count": 25,
     "metadata": {},
     "output_type": "execute_result"
    }
   ],
   "source": [
    "coupon_bond_calculator.get_ytm(bond_price=95.05, face_value=100, coupon=5.75, years=2, freq=1)"
   ]
  },
  {
   "cell_type": "code",
   "execution_count": 26,
   "metadata": {},
   "outputs": [
    {
     "data": {
      "text/plain": [
       "96.33425810870814"
      ]
     },
     "execution_count": 26,
     "metadata": {},
     "output_type": "execute_result"
    }
   ],
   "source": [
    "coupon_bond_calculator.get_price(coupon=5.75, face_value=100, int_rate=0.078, years=2, freq=1)"
   ]
  },
  {
   "cell_type": "code",
   "execution_count": 27,
   "metadata": {},
   "outputs": [
    {
     "data": {
      "text/plain": [
       "106.97347985047101"
      ]
     },
     "execution_count": 27,
     "metadata": {},
     "output_type": "execute_result"
    }
   ],
   "source": [
    "coupon_bond_calculator.get_price(coupon=5.75, face_value=100, int_rate=0.078, years=2, freq=2)"
   ]
  },
  {
   "cell_type": "markdown",
   "metadata": {},
   "source": [
    "# Visualization"
   ]
  },
  {
   "cell_type": "code",
   "execution_count": 17,
   "metadata": {},
   "outputs": [],
   "source": [
    "import numpy as np\n",
    "import seaborn as sns\n",
    "from scipy import stats\n",
    "\n",
    "interest_rates = np.arange(0, 1, 0.01).tolist()"
   ]
  },
  {
   "cell_type": "markdown",
   "metadata": {},
   "source": [
    "## Interest rate vs Bond Price"
   ]
  },
  {
   "cell_type": "code",
   "execution_count": 30,
   "metadata": {},
   "outputs": [],
   "source": [
    "import numpy as np\n",
    "import numpy as np\n",
    "import seaborn as sns\n",
    "from scipy import stats\n",
    "\n",
    "interest_rates = np.arange(0, 1, 0.01).tolist()\n",
    "bond_prices    = []\n",
    "for int_rate in interest_rates:\n",
    "    bond_price = coupon_bond_calculator.get_price(\n",
    "        coupon=5.75, \n",
    "        face_value=100, \n",
    "        int_rate=int_rate, \n",
    "        years=2, \n",
    "        freq=1\n",
    "    )\n",
    "    bond_prices.append(bond_price)"
   ]
  },
  {
   "cell_type": "code",
   "execution_count": 31,
   "metadata": {},
   "outputs": [
    {
     "data": {
      "text/plain": [
       "<matplotlib.axes._subplots.AxesSubplot at 0x18018c75ac0>"
      ]
     },
     "execution_count": 31,
     "metadata": {},
     "output_type": "execute_result"
    },
    {
     "data": {
      "image/png": "[encoded data removed]",
      "text/plain": [
       "<Figure size 432x288 with 1 Axes>"
      ]
     },
     "metadata": {
      "needs_background": "light"
     },
     "output_type": "display_data"
    }
   ],
   "source": [
    "sns.lineplot(x=bond_prices, y=interest_rates)"
   ]
  }
 ],
 "metadata": {
  "kernelspec": {
   "display_name": "Python 3",
   "language": "python",
   "name": "python3"
  },
  "language_info": {
   "codemirror_mode": {
    "name": "ipython",
    "version": 3
   },
   "file_extension": ".py",
   "mimetype": "text/x-python",
   "name": "python",
   "nbconvert_exporter": "python",
   "pygments_lexer": "ipython3",
   "version": "3.8.3"
  }
 },
 "nbformat": 4,
 "nbformat_minor": 4
}
